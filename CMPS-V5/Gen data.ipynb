{
 "cells": [
  {
   "cell_type": "code",
   "execution_count": 1,
   "id": "315df61e",
   "metadata": {},
   "outputs": [],
   "source": [
    "import numpy as np\n",
    "import torch\n",
    "from torchvision import datasets,transforms"
   ]
  },
  {
   "cell_type": "code",
   "execution_count": 2,
   "id": "0dea234b",
   "metadata": {},
   "outputs": [
    {
     "name": "stderr",
     "output_type": "stream",
     "text": [
      "D:\\Users\\admin\\Anaconda3\\envs\\pytorch\\lib\\site-packages\\torchvision\\datasets\\mnist.py:498: UserWarning: The given NumPy array is not writeable, and PyTorch does not support non-writeable tensors. This means you can write to the underlying (supposedly non-writeable) NumPy array using the tensor. You may want to copy the array to protect its data or make it writeable before converting it to a tensor. This type of warning will be suppressed for the rest of this program. (Triggered internally at  ..\\torch\\csrc\\utils\\tensor_numpy.cpp:180.)\n",
      "  return torch.from_numpy(parsed.astype(m[2], copy=False)).view(*s)\n"
     ]
    }
   ],
   "source": [
    "data_tf=transforms.Compose([transforms.ToTensor(),transforms.Normalize([0.5],[0.5])])\n",
    "train_dataset=datasets.MNIST(root='./train_data',train=True,transform=data_tf,download=True)\n",
    "test_dataset=datasets.MNIST(root='./test_data',train=False,transform=data_tf,download=True)"
   ]
  },
  {
   "cell_type": "code",
   "execution_count": 3,
   "id": "8ac8a1dd",
   "metadata": {},
   "outputs": [
    {
     "data": {
      "text/plain": [
       "60000"
      ]
     },
     "execution_count": 3,
     "metadata": {},
     "output_type": "execute_result"
    }
   ],
   "source": [
    "len(train_dataset)"
   ]
  },
  {
   "cell_type": "code",
   "execution_count": 4,
   "id": "b762d356",
   "metadata": {},
   "outputs": [
    {
     "name": "stdout",
     "output_type": "stream",
     "text": [
      "(60000, 1, 28, 28)\n",
      "float32\n",
      "(10000, 1, 28, 28)\n",
      "float32\n"
     ]
    }
   ],
   "source": [
    "train_data = []\n",
    "train_label = []\n",
    "test_data = []\n",
    "test_label = []\n",
    "for i in range(len(train_dataset)):\n",
    "    train_data.append(train_dataset[i][0].numpy())\n",
    "    train_label.append(train_dataset[i][1])\n",
    "for i in range(len(test_dataset)):\n",
    "    test_data.append(test_dataset[i][0].numpy())\n",
    "    test_label.append(test_dataset[i][1])\n",
    "train_data = np.array(train_data)\n",
    "train_label = np.array(train_label)\n",
    "test_data = np.array(test_data)\n",
    "test_label = np.array(test_label)\n",
    "print(train_data.shape)\n",
    "print(train_data.dtype)\n",
    "print(test_data.shape)\n",
    "print(test_data.dtype)"
   ]
  },
  {
   "cell_type": "code",
   "execution_count": 11,
   "id": "28a637ca",
   "metadata": {},
   "outputs": [
    {
     "name": "stdout",
     "output_type": "stream",
     "text": [
      "(60000, 784)\n",
      "(60000,)\n",
      "(10000, 784)\n",
      "(10000,)\n"
     ]
    }
   ],
   "source": [
    "train_data = np.where(train_data>0,1,0)\n",
    "test_data = np.where(test_data>0,1,0)\n",
    "train_data = train_data.reshape(train_data.shape[0],28*28)\n",
    "test_data = test_data.reshape(test_data.shape[0],28*28)\n",
    "print(train_data.shape)\n",
    "print(train_label.shape)\n",
    "print(test_data.shape)\n",
    "print(test_label.shape)"
   ]
  },
  {
   "cell_type": "code",
   "execution_count": 12,
   "id": "3b3642dd",
   "metadata": {},
   "outputs": [
    {
     "data": {
      "text/plain": [
       "(1, 0)"
      ]
     },
     "execution_count": 12,
     "metadata": {},
     "output_type": "execute_result"
    }
   ],
   "source": [
    "train_data.max(),train_data.min()"
   ]
  },
  {
   "cell_type": "code",
   "execution_count": 14,
   "id": "997dd3e7",
   "metadata": {},
   "outputs": [],
   "source": [
    "np.savez('data_bin.npz', train_data = train_data, train_label = train_label, test_data = test_data, test_label = test_label)"
   ]
  },
  {
   "cell_type": "code",
   "execution_count": null,
   "id": "543fffba",
   "metadata": {},
   "outputs": [],
   "source": []
  },
  {
   "cell_type": "code",
   "execution_count": null,
   "id": "5097d999",
   "metadata": {},
   "outputs": [],
   "source": []
  },
  {
   "cell_type": "code",
   "execution_count": 19,
   "id": "2fc24bdc",
   "metadata": {},
   "outputs": [
    {
     "data": {
      "text/plain": [
       "True"
      ]
     },
     "execution_count": 19,
     "metadata": {},
     "output_type": "execute_result"
    }
   ],
   "source": [
    "(test_data_1 == test_data).all()"
   ]
  },
  {
   "cell_type": "code",
   "execution_count": 16,
   "id": "19872494",
   "metadata": {},
   "outputs": [],
   "source": [
    "train_data_1 = np.load(\"train_data_Bin.npy\")\n",
    "test_data_1 = np.load(\"test_data_Bin.npy\")"
   ]
  },
  {
   "cell_type": "code",
   "execution_count": 20,
   "id": "03d4888b",
   "metadata": {},
   "outputs": [
    {
     "name": "stdout",
     "output_type": "stream",
     "text": [
      "(60000, 784)\n",
      "float64\n",
      "(10000, 784)\n",
      "float64\n"
     ]
    }
   ],
   "source": [
    "print(train_data_1.shape)\n",
    "print(train_data_1.dtype)\n",
    "print(test_data_1.shape)\n",
    "print(test_data_1.dtype)"
   ]
  },
  {
   "cell_type": "code",
   "execution_count": 14,
   "id": "e90c591e",
   "metadata": {},
   "outputs": [
    {
     "data": {
      "text/plain": [
       "dtype('float64')"
      ]
     },
     "execution_count": 14,
     "metadata": {},
     "output_type": "execute_result"
    }
   ],
   "source": [
    "train_data.dtype"
   ]
  },
  {
   "cell_type": "code",
   "execution_count": 15,
   "id": "7830943f",
   "metadata": {},
   "outputs": [
    {
     "data": {
      "text/plain": [
       "array([[0., 0., 0., ..., 0., 0., 0.],\n",
       "       [0., 0., 0., ..., 0., 0., 0.],\n",
       "       [0., 0., 0., ..., 0., 0., 0.],\n",
       "       ...,\n",
       "       [0., 0., 0., ..., 0., 0., 0.],\n",
       "       [0., 0., 0., ..., 0., 0., 0.],\n",
       "       [0., 0., 0., ..., 0., 0., 0.]])"
      ]
     },
     "execution_count": 15,
     "metadata": {},
     "output_type": "execute_result"
    }
   ],
   "source": [
    "train_data"
   ]
  },
  {
   "cell_type": "code",
   "execution_count": null,
   "id": "710a2684",
   "metadata": {},
   "outputs": [],
   "source": []
  }
 ],
 "metadata": {
  "kernelspec": {
   "display_name": "Python 3",
   "language": "python",
   "name": "python3"
  },
  "language_info": {
   "codemirror_mode": {
    "name": "ipython",
    "version": 3
   },
   "file_extension": ".py",
   "mimetype": "text/x-python",
   "name": "python",
   "nbconvert_exporter": "python",
   "pygments_lexer": "ipython3",
   "version": "3.6.13"
  }
 },
 "nbformat": 4,
 "nbformat_minor": 5
}
